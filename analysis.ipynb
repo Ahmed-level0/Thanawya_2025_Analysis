{
 "cells": [
  {
   "cell_type": "code",
   "execution_count": 1,
   "id": "0135368d",
   "metadata": {},
   "outputs": [],
   "source": [
    "import pandas as pd\n",
    "import seaborn as sns\n",
    "import numpy as np\n",
    "import matplotlib.pyplot as plt "
   ]
  },
  {
   "cell_type": "markdown",
   "id": "f0b9ffd5",
   "metadata": {},
   "source": [
    "**This is the whole dataFrame including new and old education system**"
   ]
  },
  {
   "cell_type": "code",
   "execution_count": 2,
   "id": "19de7129",
   "metadata": {},
   "outputs": [],
   "source": [
    "thanawya = pd.read_excel(\"Thanawya.xlsx\")"
   ]
  },
  {
   "cell_type": "code",
   "execution_count": 3,
   "id": "707f15ef",
   "metadata": {},
   "outputs": [
    {
     "data": {
      "text/html": [
       "<div>\n",
       "<style scoped>\n",
       "    .dataframe tbody tr th:only-of-type {\n",
       "        vertical-align: middle;\n",
       "    }\n",
       "\n",
       "    .dataframe tbody tr th {\n",
       "        vertical-align: top;\n",
       "    }\n",
       "\n",
       "    .dataframe thead th {\n",
       "        text-align: right;\n",
       "    }\n",
       "</style>\n",
       "<table border=\"1\" class=\"dataframe\">\n",
       "  <thead>\n",
       "    <tr style=\"text-align: right;\">\n",
       "      <th></th>\n",
       "      <th>seating_no</th>\n",
       "      <th>arabic_name</th>\n",
       "      <th>total_degree</th>\n",
       "    </tr>\n",
       "  </thead>\n",
       "  <tbody>\n",
       "    <tr>\n",
       "      <th>0</th>\n",
       "      <td>1001660</td>\n",
       "      <td>محمد ابو الحسن حسن مصطفى</td>\n",
       "      <td>163.5</td>\n",
       "    </tr>\n",
       "    <tr>\n",
       "      <th>1</th>\n",
       "      <td>1001661</td>\n",
       "      <td>محمد احمد محمد ابو زيد</td>\n",
       "      <td>187.5</td>\n",
       "    </tr>\n",
       "    <tr>\n",
       "      <th>2</th>\n",
       "      <td>1001662</td>\n",
       "      <td>محمد على محمود عبدالعزيز</td>\n",
       "      <td>168.0</td>\n",
       "    </tr>\n",
       "    <tr>\n",
       "      <th>3</th>\n",
       "      <td>1001663</td>\n",
       "      <td>محمود سيد انور محمد حامد</td>\n",
       "      <td>212.0</td>\n",
       "    </tr>\n",
       "    <tr>\n",
       "      <th>4</th>\n",
       "      <td>1001664</td>\n",
       "      <td>محمود عطيه محمود جابر حجاج</td>\n",
       "      <td>154.0</td>\n",
       "    </tr>\n",
       "  </tbody>\n",
       "</table>\n",
       "</div>"
      ],
      "text/plain": [
       "   seating_no                 arabic_name  total_degree\n",
       "0     1001660    محمد ابو الحسن حسن مصطفى         163.5\n",
       "1     1001661      محمد احمد محمد ابو زيد         187.5\n",
       "2     1001662    محمد على محمود عبدالعزيز         168.0\n",
       "3     1001663    محمود سيد انور محمد حامد         212.0\n",
       "4     1001664  محمود عطيه محمود جابر حجاج         154.0"
      ]
     },
     "execution_count": 3,
     "metadata": {},
     "output_type": "execute_result"
    }
   ],
   "source": [
    "thanawya.head()"
   ]
  },
  {
   "cell_type": "markdown",
   "id": "8839f71f",
   "metadata": {},
   "source": [
    "**seperating new education system from old ecucation system**"
   ]
  },
  {
   "cell_type": "code",
   "execution_count": null,
   "id": "f8f43b14",
   "metadata": {},
   "outputs": [],
   "source": [
    "newThanawya  = thanawya[(thanawya['total_degree'] <= 319) & (thanawya['total_degree'] > 0)]"
   ]
  },
  {
   "cell_type": "code",
   "execution_count": null,
   "id": "751c3ea8",
   "metadata": {},
   "outputs": [
    {
     "data": {
      "text/plain": [
       "68.32921109829638"
      ]
     },
     "execution_count": 76,
     "metadata": {},
     "output_type": "execute_result"
    }
   ],
   "source": [
    "Average_grades = newThanawya['total_degree'].mean()\n",
    "Average_degree = newThanawya['degree_percent'].mean()"
   ]
  },
  {
   "cell_type": "markdown",
   "id": "975d96d9",
   "metadata": {},
   "source": [
    "**Total absences from old and new education systems**"
   ]
  },
  {
   "cell_type": "code",
   "execution_count": 71,
   "id": "a7aa4839",
   "metadata": {},
   "outputs": [
    {
     "data": {
      "text/plain": [
       "27665"
      ]
     },
     "execution_count": 71,
     "metadata": {},
     "output_type": "execute_result"
    }
   ],
   "source": [
    "absences = thanawya[thanawya['total_degree'] == 0]\n",
    "absences_num = absences['total_degree'].count()\n",
    "absences_num"
   ]
  },
  {
   "cell_type": "code",
   "execution_count": 61,
   "id": "7ec2525f",
   "metadata": {},
   "outputs": [
    {
     "data": {
      "text/html": [
       "<div>\n",
       "<style scoped>\n",
       "    .dataframe tbody tr th:only-of-type {\n",
       "        vertical-align: middle;\n",
       "    }\n",
       "\n",
       "    .dataframe tbody tr th {\n",
       "        vertical-align: top;\n",
       "    }\n",
       "\n",
       "    .dataframe thead th {\n",
       "        text-align: right;\n",
       "    }\n",
       "</style>\n",
       "<table border=\"1\" class=\"dataframe\">\n",
       "  <thead>\n",
       "    <tr style=\"text-align: right;\">\n",
       "      <th></th>\n",
       "      <th>seating_no</th>\n",
       "      <th>arabic_name</th>\n",
       "      <th>total_degree</th>\n",
       "      <th>degree_percent</th>\n",
       "      <th>over_all</th>\n",
       "    </tr>\n",
       "  </thead>\n",
       "  <tbody>\n",
       "    <tr>\n",
       "      <th>0</th>\n",
       "      <td>1001660</td>\n",
       "      <td>محمد ابو الحسن حسن مصطفى</td>\n",
       "      <td>163.5</td>\n",
       "      <td>51.09375</td>\n",
       "      <td>Very Weak</td>\n",
       "    </tr>\n",
       "    <tr>\n",
       "      <th>1</th>\n",
       "      <td>1001661</td>\n",
       "      <td>محمد احمد محمد ابو زيد</td>\n",
       "      <td>187.5</td>\n",
       "      <td>58.59375</td>\n",
       "      <td>Very Weak</td>\n",
       "    </tr>\n",
       "    <tr>\n",
       "      <th>2</th>\n",
       "      <td>1001662</td>\n",
       "      <td>محمد على محمود عبدالعزيز</td>\n",
       "      <td>168.0</td>\n",
       "      <td>52.50000</td>\n",
       "      <td>Very Weak</td>\n",
       "    </tr>\n",
       "    <tr>\n",
       "      <th>3</th>\n",
       "      <td>1001663</td>\n",
       "      <td>محمود سيد انور محمد حامد</td>\n",
       "      <td>212.0</td>\n",
       "      <td>66.25000</td>\n",
       "      <td>Weak</td>\n",
       "    </tr>\n",
       "    <tr>\n",
       "      <th>4</th>\n",
       "      <td>1001664</td>\n",
       "      <td>محمود عطيه محمود جابر حجاج</td>\n",
       "      <td>154.0</td>\n",
       "      <td>48.12500</td>\n",
       "      <td>Failed</td>\n",
       "    </tr>\n",
       "  </tbody>\n",
       "</table>\n",
       "</div>"
      ],
      "text/plain": [
       "   seating_no                 arabic_name  total_degree  degree_percent  \\\n",
       "0     1001660    محمد ابو الحسن حسن مصطفى         163.5        51.09375   \n",
       "1     1001661      محمد احمد محمد ابو زيد         187.5        58.59375   \n",
       "2     1001662    محمد على محمود عبدالعزيز         168.0        52.50000   \n",
       "3     1001663    محمود سيد انور محمد حامد         212.0        66.25000   \n",
       "4     1001664  محمود عطيه محمود جابر حجاج         154.0        48.12500   \n",
       "\n",
       "    over_all  \n",
       "0  Very Weak  \n",
       "1  Very Weak  \n",
       "2  Very Weak  \n",
       "3       Weak  \n",
       "4     Failed  "
      ]
     },
     "execution_count": 61,
     "metadata": {},
     "output_type": "execute_result"
    }
   ],
   "source": [
    "newThanawya.head()"
   ]
  },
  {
   "cell_type": "markdown",
   "id": "49a0fb29",
   "metadata": {},
   "source": [
    "**adding new columns of the percentage**"
   ]
  },
  {
   "cell_type": "code",
   "execution_count": 62,
   "id": "e114524e",
   "metadata": {},
   "outputs": [
    {
     "name": "stderr",
     "output_type": "stream",
     "text": [
      "C:\\Users\\youssef\\AppData\\Local\\Temp\\ipykernel_17596\\2645868404.py:1: SettingWithCopyWarning: \n",
      "A value is trying to be set on a copy of a slice from a DataFrame.\n",
      "Try using .loc[row_indexer,col_indexer] = value instead\n",
      "\n",
      "See the caveats in the documentation: https://pandas.pydata.org/pandas-docs/stable/user_guide/indexing.html#returning-a-view-versus-a-copy\n",
      "  newThanawya['degree_percent'] = (newThanawya['total_degree']/320) * 100\n"
     ]
    }
   ],
   "source": [
    "newThanawya['degree_percent'] = (newThanawya['total_degree']/320) * 100"
   ]
  },
  {
   "cell_type": "markdown",
   "id": "baef83a1",
   "metadata": {},
   "source": [
    "**Categories of the grades** "
   ]
  },
  {
   "cell_type": "code",
   "execution_count": 63,
   "id": "e813409f",
   "metadata": {},
   "outputs": [
    {
     "name": "stderr",
     "output_type": "stream",
     "text": [
      "C:\\Users\\youssef\\AppData\\Local\\Temp\\ipykernel_17596\\3237467641.py:3: SettingWithCopyWarning: \n",
      "A value is trying to be set on a copy of a slice from a DataFrame.\n",
      "Try using .loc[row_indexer,col_indexer] = value instead\n",
      "\n",
      "See the caveats in the documentation: https://pandas.pydata.org/pandas-docs/stable/user_guide/indexing.html#returning-a-view-versus-a-copy\n",
      "  newThanawya['over_all'] = pd.cut(newThanawya['degree_percent'], labels= labels, bins= bins)\n"
     ]
    }
   ],
   "source": [
    "labels = [\"Failed\",\"Very Weak\",\"Weak\",\"Good\",\"Very Good\", \"Excellent\"]\n",
    "bins = [0, 50, 60, 70, 80, 90, 100]\n",
    "newThanawya['over_all'] = pd.cut(newThanawya['degree_percent'], labels= labels, bins= bins)"
   ]
  },
  {
   "cell_type": "code",
   "execution_count": 64,
   "id": "3621d015",
   "metadata": {},
   "outputs": [],
   "source": [
    "q1 = newThanawya['total_degree'].quantile(0.25)\n",
    "q3 = newThanawya['total_degree'].quantile(0.75)\n",
    "iqr = q3 - q1\n",
    "upper_bound = q3 + 1.5 * iqr\n",
    "lower_bound = q1 - 1.5 * iqr\n",
    "lower_bound\n",
    "newThanawya = newThanawya[(newThanawya['total_degree'] < upper_bound) & (newThanawya['total_degree'] > lower_bound)]"
   ]
  },
  {
   "cell_type": "code",
   "execution_count": 77,
   "id": "f9d01016",
   "metadata": {},
   "outputs": [
    {
     "data": {
      "text/plain": [
       "over_all\n",
       "Weak         188277\n",
       "Good         166423\n",
       "Very Good    139627\n",
       "Very Weak    135842\n",
       "Failed        91996\n",
       "Excellent     53418\n",
       "Name: count, dtype: int64"
      ]
     },
     "execution_count": 77,
     "metadata": {},
     "output_type": "execute_result"
    }
   ],
   "source": [
    "newThanawya['over_all'].value_counts()"
   ]
  },
  {
   "cell_type": "markdown",
   "id": "be662aad",
   "metadata": {},
   "source": [
    "**Visualization and graphs** "
   ]
  },
  {
   "cell_type": "code",
   "execution_count": 65,
   "id": "046269ce",
   "metadata": {},
   "outputs": [],
   "source": [
    "sns.set_style(\"darkgrid\")\n",
    "sns.set_theme(\"notebook\")"
   ]
  },
  {
   "cell_type": "markdown",
   "id": "22b79b9f",
   "metadata": {},
   "source": [
    "**count of the evaluation**"
   ]
  },
  {
   "cell_type": "code",
   "execution_count": 66,
   "id": "d0cc6e88",
   "metadata": {},
   "outputs": [
    {
     "data": {
      "image/png": "[encoded data removed]",
      "text/plain": [
       "<Figure size 640x480 with 1 Axes>"
      ]
     },
     "metadata": {},
     "output_type": "display_data"
    }
   ],
   "source": [
    "sns.countplot(data= newThanawya, x= 'over_all').figure.suptitle(\"Evaluation Count\")\n",
    "plt.show()"
   ]
  },
  {
   "cell_type": "markdown",
   "id": "823901bd",
   "metadata": {},
   "source": [
    "**Distribution of the degrees**"
   ]
  },
  {
   "cell_type": "code",
   "execution_count": 72,
   "id": "3ab322f5",
   "metadata": {},
   "outputs": [
    {
     "data": {
      "image/png": "[encoded data removed]",
      "text/plain": [
       "<Figure size 640x480 with 1 Axes>"
      ]
     },
     "metadata": {},
     "output_type": "display_data"
    }
   ],
   "source": [
    "sns.histplot(data= newThanawya, x= 'total_degree')\n",
    "plt.show()"
   ]
  },
  {
   "cell_type": "code",
   "execution_count": null,
   "id": "a21eff6d",
   "metadata": {},
   "outputs": [],
   "source": []
  },
  {
   "cell_type": "markdown",
   "id": "0ed58103",
   "metadata": {},
   "source": []
  }
 ],
 "metadata": {
  "kernelspec": {
   "display_name": "base",
   "language": "python",
   "name": "python3"
  },
  "language_info": {
   "codemirror_mode": {
    "name": "ipython",
    "version": 3
   },
   "file_extension": ".py",
   "mimetype": "text/x-python",
   "name": "python",
   "nbconvert_exporter": "python",
   "pygments_lexer": "ipython3",
   "version": "3.12.4"
  }
 },
 "nbformat": 4,
 "nbformat_minor": 5
}
