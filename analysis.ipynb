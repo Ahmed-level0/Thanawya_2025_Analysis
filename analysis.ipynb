{
 "cells": [
  {
   "cell_type": "code",
   "execution_count": 2,
   "id": "0135368d",
   "metadata": {},
   "outputs": [],
   "source": [
    "import pandas as pd\n",
    "import seaborn as sns\n",
    "import numpy as np\n",
    "import matplotlib.pyplot as plt "
   ]
  },
  {
   "cell_type": "code",
   "execution_count": 3,
   "id": "19de7129",
   "metadata": {},
   "outputs": [],
   "source": [
    "thanawya = pd.read_excel(\"Thanawya.xlsx\")"
   ]
  },
  {
   "cell_type": "code",
   "execution_count": 12,
   "id": "707f15ef",
   "metadata": {},
   "outputs": [
    {
     "data": {
      "text/html": [
       "<div>\n",
       "<style scoped>\n",
       "    .dataframe tbody tr th:only-of-type {\n",
       "        vertical-align: middle;\n",
       "    }\n",
       "\n",
       "    .dataframe tbody tr th {\n",
       "        vertical-align: top;\n",
       "    }\n",
       "\n",
       "    .dataframe thead th {\n",
       "        text-align: right;\n",
       "    }\n",
       "</style>\n",
       "<table border=\"1\" class=\"dataframe\">\n",
       "  <thead>\n",
       "    <tr style=\"text-align: right;\">\n",
       "      <th></th>\n",
       "      <th>seating_no</th>\n",
       "      <th>arabic_name</th>\n",
       "      <th>total_degree</th>\n",
       "      <th>degree_percent</th>\n",
       "      <th>over_all</th>\n",
       "    </tr>\n",
       "  </thead>\n",
       "  <tbody>\n",
       "    <tr>\n",
       "      <th>0</th>\n",
       "      <td>1001660</td>\n",
       "      <td>محمد ابو الحسن حسن مصطفى</td>\n",
       "      <td>163.5</td>\n",
       "      <td>51.09375</td>\n",
       "      <td>Very Weak</td>\n",
       "    </tr>\n",
       "    <tr>\n",
       "      <th>1</th>\n",
       "      <td>1001661</td>\n",
       "      <td>محمد احمد محمد ابو زيد</td>\n",
       "      <td>187.5</td>\n",
       "      <td>58.59375</td>\n",
       "      <td>Very Weak</td>\n",
       "    </tr>\n",
       "    <tr>\n",
       "      <th>2</th>\n",
       "      <td>1001662</td>\n",
       "      <td>محمد على محمود عبدالعزيز</td>\n",
       "      <td>168.0</td>\n",
       "      <td>52.50000</td>\n",
       "      <td>Very Weak</td>\n",
       "    </tr>\n",
       "    <tr>\n",
       "      <th>3</th>\n",
       "      <td>1001663</td>\n",
       "      <td>محمود سيد انور محمد حامد</td>\n",
       "      <td>212.0</td>\n",
       "      <td>66.25000</td>\n",
       "      <td>Weak</td>\n",
       "    </tr>\n",
       "    <tr>\n",
       "      <th>4</th>\n",
       "      <td>1001664</td>\n",
       "      <td>محمود عطيه محمود جابر حجاج</td>\n",
       "      <td>154.0</td>\n",
       "      <td>48.12500</td>\n",
       "      <td>Failed</td>\n",
       "    </tr>\n",
       "  </tbody>\n",
       "</table>\n",
       "</div>"
      ],
      "text/plain": [
       "   seating_no                 arabic_name  total_degree  degree_percent  \\\n",
       "0     1001660    محمد ابو الحسن حسن مصطفى         163.5        51.09375   \n",
       "1     1001661      محمد احمد محمد ابو زيد         187.5        58.59375   \n",
       "2     1001662    محمد على محمود عبدالعزيز         168.0        52.50000   \n",
       "3     1001663    محمود سيد انور محمد حامد         212.0        66.25000   \n",
       "4     1001664  محمود عطيه محمود جابر حجاج         154.0        48.12500   \n",
       "\n",
       "    over_all  \n",
       "0  Very Weak  \n",
       "1  Very Weak  \n",
       "2  Very Weak  \n",
       "3       Weak  \n",
       "4     Failed  "
      ]
     },
     "execution_count": 12,
     "metadata": {},
     "output_type": "execute_result"
    }
   ],
   "source": [
    "thanawya.head()"
   ]
  },
  {
   "cell_type": "code",
   "execution_count": 6,
   "id": "f8f43b14",
   "metadata": {},
   "outputs": [],
   "source": [
    "absences = thanawya[thanawya['total_degree'] == 0]\n",
    "absences_num = absences['total_degree'].count()"
   ]
  },
  {
   "cell_type": "code",
   "execution_count": 7,
   "id": "e114524e",
   "metadata": {},
   "outputs": [],
   "source": [
    "thanawya['degree_percent'] = (thanawya['total_degree']/320) * 100"
   ]
  },
  {
   "cell_type": "code",
   "execution_count": null,
   "id": "e813409f",
   "metadata": {},
   "outputs": [
    {
     "name": "stdout",
     "output_type": "stream",
     "text": [
      "<class 'pandas.core.frame.DataFrame'>\n",
      "RangeIndex: 810980 entries, 0 to 810979\n",
      "Data columns (total 5 columns):\n",
      " #   Column          Non-Null Count   Dtype   \n",
      "---  ------          --------------   -----   \n",
      " 0   seating_no      810980 non-null  int64   \n",
      " 1   arabic_name     810980 non-null  object  \n",
      " 2   total_degree    810980 non-null  float64 \n",
      " 3   degree_percent  810980 non-null  float64 \n",
      " 4   over_all        779720 non-null  category\n",
      "dtypes: category(1), float64(2), int64(1), object(1)\n",
      "memory usage: 25.5+ MB\n"
     ]
    }
   ],
   "source": [
    "labels = [\"Failed\",\"Very Weak\",\"Weak\",\"Good\",\"Very Good\", \"Excellent\"]\n",
    "bins = [0, 50, 60, 70, 80, 90, 100]\n",
    "thanawya['over_all'] = pd.cut(thanawya['degree_percent'], labels= labels, bins= bins)"
   ]
  },
  {
   "cell_type": "code",
   "execution_count": 25,
   "id": "046269ce",
   "metadata": {},
   "outputs": [],
   "source": [
    "sns.set_style(\"darkgrid\")"
   ]
  },
  {
   "cell_type": "code",
   "execution_count": 27,
   "id": "d0cc6e88",
   "metadata": {},
   "outputs": [
    {
     "data": {
      "image/png": "[encoded data removed]",
      "text/plain": [
       "<Figure size 640x480 with 1 Axes>"
      ]
     },
     "metadata": {},
     "output_type": "display_data"
    }
   ],
   "source": [
    "sns.countplot(data= thanawya, x= 'over_all').figure.suptitle(\"Evaluation Count\")\n",
    "plt.show()"
   ]
  },
  {
   "cell_type": "code",
   "execution_count": null,
   "id": "a7629d6c",
   "metadata": {},
   "outputs": [],
   "source": []
  }
 ],
 "metadata": {
  "kernelspec": {
   "display_name": "base",
   "language": "python",
   "name": "python3"
  },
  "language_info": {
   "codemirror_mode": {
    "name": "ipython",
    "version": 3
   },
   "file_extension": ".py",
   "mimetype": "text/x-python",
   "name": "python",
   "nbconvert_exporter": "python",
   "pygments_lexer": "ipython3",
   "version": "3.12.4"
  }
 },
 "nbformat": 4,
 "nbformat_minor": 5
}
